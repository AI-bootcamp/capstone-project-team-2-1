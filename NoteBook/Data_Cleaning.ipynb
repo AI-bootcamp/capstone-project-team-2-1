{
 "cells": [
  {
   "cell_type": "code",
   "execution_count": 5,
   "metadata": {},
   "outputs": [
    {
     "name": "stdout",
     "output_type": "stream",
     "text": [
      "Requirement already satisfied: camel-tools in /Users/najlaalhomaid/.pyenv/versions/3.9.12/lib/python3.9/site-packages (1.5.5)\n",
      "Requirement already satisfied: future in /Users/najlaalhomaid/.pyenv/versions/3.9.12/lib/python3.9/site-packages (from camel-tools) (1.0.0)\n",
      "Requirement already satisfied: six in /Users/najlaalhomaid/.pyenv/versions/3.9.12/lib/python3.9/site-packages (from camel-tools) (1.16.0)\n",
      "Requirement already satisfied: docopt in /Users/najlaalhomaid/.pyenv/versions/3.9.12/lib/python3.9/site-packages (from camel-tools) (0.6.2)\n",
      "Requirement already satisfied: cachetools in /Users/najlaalhomaid/.pyenv/versions/3.9.12/lib/python3.9/site-packages (from camel-tools) (5.5.0)\n",
      "Requirement already satisfied: numpy<2 in /Users/najlaalhomaid/.pyenv/versions/3.9.12/lib/python3.9/site-packages (from camel-tools) (1.26.4)\n",
      "Requirement already satisfied: scipy in /Users/najlaalhomaid/.pyenv/versions/3.9.12/lib/python3.9/site-packages (from camel-tools) (1.13.1)\n",
      "Requirement already satisfied: pandas in /Users/najlaalhomaid/.pyenv/versions/3.9.12/lib/python3.9/site-packages (from camel-tools) (2.2.3)\n",
      "Requirement already satisfied: scikit-learn in /Users/najlaalhomaid/.pyenv/versions/3.9.12/lib/python3.9/site-packages (from camel-tools) (1.5.2)\n",
      "Requirement already satisfied: dill in /Users/najlaalhomaid/.pyenv/versions/3.9.12/lib/python3.9/site-packages (from camel-tools) (0.3.9)\n",
      "Requirement already satisfied: torch>=2.0 in /Users/najlaalhomaid/.pyenv/versions/3.9.12/lib/python3.9/site-packages (from camel-tools) (2.5.1)\n",
      "Requirement already satisfied: transformers<4.44.0,>=4.0 in /Users/najlaalhomaid/.pyenv/versions/3.9.12/lib/python3.9/site-packages (from camel-tools) (4.43.4)\n",
      "Requirement already satisfied: editdistance in /Users/najlaalhomaid/.pyenv/versions/3.9.12/lib/python3.9/site-packages (from camel-tools) (0.8.1)\n",
      "Requirement already satisfied: requests in /Users/najlaalhomaid/.pyenv/versions/3.9.12/lib/python3.9/site-packages (from camel-tools) (2.32.3)\n",
      "Requirement already satisfied: emoji in /Users/najlaalhomaid/.pyenv/versions/3.9.12/lib/python3.9/site-packages (from camel-tools) (2.14.0)\n",
      "Requirement already satisfied: pyrsistent in /Users/najlaalhomaid/.pyenv/versions/3.9.12/lib/python3.9/site-packages (from camel-tools) (0.20.0)\n",
      "Requirement already satisfied: tabulate in /Users/najlaalhomaid/.pyenv/versions/3.9.12/lib/python3.9/site-packages (from camel-tools) (0.9.0)\n",
      "Requirement already satisfied: tqdm in /Users/najlaalhomaid/.pyenv/versions/3.9.12/lib/python3.9/site-packages (from camel-tools) (4.67.1)\n",
      "Requirement already satisfied: muddler in /Users/najlaalhomaid/.pyenv/versions/3.9.12/lib/python3.9/site-packages (from camel-tools) (0.1.3)\n",
      "Requirement already satisfied: camel-kenlm>=2024.5.6 in /Users/najlaalhomaid/.pyenv/versions/3.9.12/lib/python3.9/site-packages (from camel-tools) (2024.5.6)\n",
      "Requirement already satisfied: filelock in /Users/najlaalhomaid/.pyenv/versions/3.9.12/lib/python3.9/site-packages (from torch>=2.0->camel-tools) (3.16.1)\n",
      "Requirement already satisfied: typing-extensions>=4.8.0 in /Users/najlaalhomaid/.pyenv/versions/3.9.12/lib/python3.9/site-packages (from torch>=2.0->camel-tools) (4.12.2)\n",
      "Requirement already satisfied: networkx in /Users/najlaalhomaid/.pyenv/versions/3.9.12/lib/python3.9/site-packages (from torch>=2.0->camel-tools) (3.2.1)\n",
      "Requirement already satisfied: jinja2 in /Users/najlaalhomaid/.pyenv/versions/3.9.12/lib/python3.9/site-packages (from torch>=2.0->camel-tools) (3.1.5)\n",
      "Requirement already satisfied: fsspec in /Users/najlaalhomaid/.pyenv/versions/3.9.12/lib/python3.9/site-packages (from torch>=2.0->camel-tools) (2024.10.0)\n",
      "Requirement already satisfied: sympy==1.13.1 in /Users/najlaalhomaid/.pyenv/versions/3.9.12/lib/python3.9/site-packages (from torch>=2.0->camel-tools) (1.13.1)\n",
      "Requirement already satisfied: mpmath<1.4,>=1.1.0 in /Users/najlaalhomaid/.pyenv/versions/3.9.12/lib/python3.9/site-packages (from sympy==1.13.1->torch>=2.0->camel-tools) (1.3.0)\n",
      "Requirement already satisfied: huggingface-hub<1.0,>=0.23.2 in /Users/najlaalhomaid/.pyenv/versions/3.9.12/lib/python3.9/site-packages (from transformers<4.44.0,>=4.0->camel-tools) (0.26.5)\n",
      "Requirement already satisfied: packaging>=20.0 in /Users/najlaalhomaid/.pyenv/versions/3.9.12/lib/python3.9/site-packages (from transformers<4.44.0,>=4.0->camel-tools) (24.2)\n",
      "Requirement already satisfied: pyyaml>=5.1 in /Users/najlaalhomaid/.pyenv/versions/3.9.12/lib/python3.9/site-packages (from transformers<4.44.0,>=4.0->camel-tools) (6.0.2)\n",
      "Requirement already satisfied: regex!=2019.12.17 in /Users/najlaalhomaid/.pyenv/versions/3.9.12/lib/python3.9/site-packages (from transformers<4.44.0,>=4.0->camel-tools) (2024.11.6)\n",
      "Requirement already satisfied: safetensors>=0.4.1 in /Users/najlaalhomaid/.pyenv/versions/3.9.12/lib/python3.9/site-packages (from transformers<4.44.0,>=4.0->camel-tools) (0.4.5)\n",
      "Requirement already satisfied: tokenizers<0.20,>=0.19 in /Users/najlaalhomaid/.pyenv/versions/3.9.12/lib/python3.9/site-packages (from transformers<4.44.0,>=4.0->camel-tools) (0.19.1)\n",
      "Requirement already satisfied: python-dateutil>=2.8.2 in /Users/najlaalhomaid/.pyenv/versions/3.9.12/lib/python3.9/site-packages (from pandas->camel-tools) (2.9.0.post0)\n",
      "Requirement already satisfied: pytz>=2020.1 in /Users/najlaalhomaid/.pyenv/versions/3.9.12/lib/python3.9/site-packages (from pandas->camel-tools) (2024.2)\n",
      "Requirement already satisfied: tzdata>=2022.7 in /Users/najlaalhomaid/.pyenv/versions/3.9.12/lib/python3.9/site-packages (from pandas->camel-tools) (2024.2)\n",
      "Requirement already satisfied: charset-normalizer<4,>=2 in /Users/najlaalhomaid/.pyenv/versions/3.9.12/lib/python3.9/site-packages (from requests->camel-tools) (3.4.0)\n",
      "Requirement already satisfied: idna<4,>=2.5 in /Users/najlaalhomaid/.pyenv/versions/3.9.12/lib/python3.9/site-packages (from requests->camel-tools) (3.10)\n",
      "Requirement already satisfied: urllib3<3,>=1.21.1 in /Users/najlaalhomaid/.pyenv/versions/3.9.12/lib/python3.9/site-packages (from requests->camel-tools) (2.2.3)\n",
      "Requirement already satisfied: certifi>=2017.4.17 in /Users/najlaalhomaid/.pyenv/versions/3.9.12/lib/python3.9/site-packages (from requests->camel-tools) (2024.8.30)\n",
      "Requirement already satisfied: joblib>=1.2.0 in /Users/najlaalhomaid/.pyenv/versions/3.9.12/lib/python3.9/site-packages (from scikit-learn->camel-tools) (1.4.2)\n",
      "Requirement already satisfied: threadpoolctl>=3.1.0 in /Users/najlaalhomaid/.pyenv/versions/3.9.12/lib/python3.9/site-packages (from scikit-learn->camel-tools) (3.5.0)\n",
      "Requirement already satisfied: MarkupSafe>=2.0 in /Users/najlaalhomaid/.pyenv/versions/3.9.12/lib/python3.9/site-packages (from jinja2->torch>=2.0->camel-tools) (3.0.2)\n",
      "Note: you may need to restart the kernel to use updated packages.\n"
     ]
    }
   ],
   "source": [
    "pip install --upgrade camel-tools\n"
   ]
  },
  {
   "cell_type": "markdown",
   "metadata": {},
   "source": [
    "### Version 1"
   ]
  },
  {
   "cell_type": "code",
   "execution_count": 1,
   "metadata": {},
   "outputs": [],
   "source": [
    "from camel_tools.utils.normalize import normalize_unicode, normalize_alef_maksura_ar, normalize_alef_ar, normalize_teh_marbuta_ar\n",
    "import re\n",
    "\n",
    "def preprocess_text(text):\n",
    "    # Normalize Arabic\n",
    "    text = normalize_unicode(text)  # Normalize Unicode\n",
    "    text = normalize_alef_maksura_ar(text)  # Convert ى to ي\n",
    "    text = normalize_alef_ar(text)  # Convert إئؤأ to ء\n",
    "    text = normalize_teh_marbuta_ar(text) # Convert ة to ه\n",
    "    text = re.sub(r'[\\u064B-\\u065F]', '', text)   # Remove diacritics\n",
    "    text = re.sub(r'http\\S+|www.\\S+', '', text)  # Links\n",
    "    text = re.sub(r'[^\\w\\s]', ' ', text)  # Replace punctuation with a space\n",
    "    \n",
    "    # Remove extra spaces\n",
    "    text = re.sub(r'\\s+', ' ', text).strip()\n",
    "    return text"
   ]
  },
  {
   "cell_type": "code",
   "execution_count": 2,
   "metadata": {},
   "outputs": [],
   "source": [
    "import pandas as pd\n",
    "\n",
    "df1 = pd.read_csv('/Users/najlaalhomaid/Desktop/smsDataLast.csv')"
   ]
  },
  {
   "cell_type": "code",
   "execution_count": 3,
   "metadata": {},
   "outputs": [],
   "source": [
    "df1[\"Message Content\"] = df1[\"Message Content\"].apply(preprocess_text)"
   ]
  },
  {
   "cell_type": "code",
   "execution_count": 4,
   "metadata": {},
   "outputs": [],
   "source": [
    "df1.to_csv(\"Data_cleaned_v1.csv\", index=False)\n"
   ]
  },
  {
   "cell_type": "markdown",
   "metadata": {},
   "source": [
    "### Version 2"
   ]
  },
  {
   "cell_type": "code",
   "execution_count": 5,
   "metadata": {},
   "outputs": [],
   "source": [
    "def preprocess_text2(text):\n",
    "    \n",
    "    # Remove numbers\n",
    "    text = re.sub(r'\\d+', '', text)  # Remove digits (0-9)\n",
    "    return text"
   ]
  },
  {
   "cell_type": "code",
   "execution_count": 6,
   "metadata": {},
   "outputs": [],
   "source": [
    "df2 = df1"
   ]
  },
  {
   "cell_type": "code",
   "execution_count": 7,
   "metadata": {},
   "outputs": [],
   "source": [
    "df2[\"Message Content\"] = df2[\"Message Content\"].apply(preprocess_text2)"
   ]
  },
  {
   "cell_type": "code",
   "execution_count": 8,
   "metadata": {},
   "outputs": [
    {
     "data": {
      "text/plain": [
       "'عميلنا العزيز تم اكتشاف عطل فني علي هاتفكم رقم وتمت معالجته ونعتذر عن اي خلل قد تسبب فيه سابقا'"
      ]
     },
     "execution_count": 8,
     "metadata": {},
     "output_type": "execute_result"
    }
   ],
   "source": [
    "df2[\"Message Content\"][1]"
   ]
  },
  {
   "cell_type": "code",
   "execution_count": 22,
   "metadata": {},
   "outputs": [],
   "source": [
    "all_text = \" \".join(df2[\"Message Content\"])\n",
    "tokens = all_text.split()"
   ]
  },
  {
   "cell_type": "code",
   "execution_count": 23,
   "metadata": {},
   "outputs": [],
   "source": [
    "from collections import Counter\n",
    "\n",
    "word_counts = Counter(tokens)\n",
    "most_common_words = word_counts.most_common(20)  # Top 20 most frequent words"
   ]
  },
  {
   "cell_type": "code",
   "execution_count": 24,
   "metadata": {},
   "outputs": [
    {
     "data": {
      "image/png": "[encoded data removed]",
      "text/plain": [
       "<Figure size 1000x600 with 1 Axes>"
      ]
     },
     "metadata": {},
     "output_type": "display_data"
    }
   ],
   "source": [
    "import matplotlib.pyplot as plt\n",
    "\n",
    "# Visualization of the most frequent words\n",
    "words, counts = zip(*most_common_words)  # Extract words and their counts\n",
    "\n",
    "# Plotting\n",
    "plt.figure(figsize=(10, 6))\n",
    "plt.bar(words, counts)\n",
    "plt.xlabel('Words', fontsize=12)\n",
    "plt.ylabel('Frequency', fontsize=12)\n",
    "plt.title('Most Frequent Words in Messages', fontsize=14)\n",
    "plt.xticks(rotation=45, ha='right', fontsize=10)\n",
    "plt.tight_layout()\n",
    "plt.show()"
   ]
  },
  {
   "cell_type": "code",
   "execution_count": 25,
   "metadata": {},
   "outputs": [],
   "source": [
    "stop_words = {word for word, _ in most_common_words}"
   ]
  },
  {
   "cell_type": "code",
   "execution_count": 20,
   "metadata": {},
   "outputs": [],
   "source": [
    "# Remove stop words from messages\n",
    "df2[\"Message Content\"] = df2[\"Message Content\"].apply(lambda x: \" \".join(\n",
    "    [word for word in x.split() if word not in stop_words]\n",
    "))"
   ]
  },
  {
   "cell_type": "code",
   "execution_count": 21,
   "metadata": {},
   "outputs": [
    {
     "data": {
      "text/plain": [
       "'اكتشاف عطل فني هاتفكم وتمت معالجته ونعتذر اي خلل قد تسبب فيه سابقا'"
      ]
     },
     "execution_count": 21,
     "metadata": {},
     "output_type": "execute_result"
    }
   ],
   "source": [
    "df2[\"Message Content\"][1]"
   ]
  },
  {
   "cell_type": "code",
   "execution_count": 26,
   "metadata": {},
   "outputs": [
    {
     "data": {
      "text/html": [
       "<div>\n",
       "<style scoped>\n",
       "    .dataframe tbody tr th:only-of-type {\n",
       "        vertical-align: middle;\n",
       "    }\n",
       "\n",
       "    .dataframe tbody tr th {\n",
       "        vertical-align: top;\n",
       "    }\n",
       "\n",
       "    .dataframe thead th {\n",
       "        text-align: right;\n",
       "    }\n",
       "</style>\n",
       "<table border=\"1\" class=\"dataframe\">\n",
       "  <thead>\n",
       "    <tr style=\"text-align: right;\">\n",
       "      <th></th>\n",
       "      <th>Sender</th>\n",
       "      <th>Message Content</th>\n",
       "      <th>Category</th>\n",
       "    </tr>\n",
       "  </thead>\n",
       "  <tbody>\n",
       "    <tr>\n",
       "      <th>0</th>\n",
       "      <td>maharah co.</td>\n",
       "      <td>لفتره محدوده خصم خدمه العماله المنزليه بنظام ا...</td>\n",
       "      <td>Promotional</td>\n",
       "    </tr>\n",
       "    <tr>\n",
       "      <th>1</th>\n",
       "      <td>stc</td>\n",
       "      <td>اكتشاف عطل فني هاتفكم وتمت معالجته ونعتذر اي خ...</td>\n",
       "      <td>Telecommunications</td>\n",
       "    </tr>\n",
       "    <tr>\n",
       "      <th>2</th>\n",
       "      <td>stc</td>\n",
       "      <td>نتشرف بخدمتكم ونفيدكم بانه قبول طلبكم ونقوم حا...</td>\n",
       "      <td>Telecommunications</td>\n",
       "    </tr>\n",
       "    <tr>\n",
       "      <th>3</th>\n",
       "      <td>mawarid</td>\n",
       "      <td>طريق سداد ذلك عقد RH</td>\n",
       "      <td>Commercial</td>\n",
       "    </tr>\n",
       "    <tr>\n",
       "      <th>4</th>\n",
       "      <td>alrajhibank</td>\n",
       "      <td>عزيزتنا عميله التميز نهنئكم بعيد الاضحي المبار...</td>\n",
       "      <td>Promotional</td>\n",
       "    </tr>\n",
       "  </tbody>\n",
       "</table>\n",
       "</div>"
      ],
      "text/plain": [
       "        Sender                                    Message Content  \\\n",
       "0  maharah co.  لفتره محدوده خصم خدمه العماله المنزليه بنظام ا...   \n",
       "1          stc  اكتشاف عطل فني هاتفكم وتمت معالجته ونعتذر اي خ...   \n",
       "2          stc  نتشرف بخدمتكم ونفيدكم بانه قبول طلبكم ونقوم حا...   \n",
       "3      mawarid                               طريق سداد ذلك عقد RH   \n",
       "4  alrajhibank  عزيزتنا عميله التميز نهنئكم بعيد الاضحي المبار...   \n",
       "\n",
       "             Category  \n",
       "0         Promotional  \n",
       "1  Telecommunications  \n",
       "2  Telecommunications  \n",
       "3          Commercial  \n",
       "4         Promotional  "
      ]
     },
     "execution_count": 26,
     "metadata": {},
     "output_type": "execute_result"
    }
   ],
   "source": [
    "df2.head()"
   ]
  },
  {
   "cell_type": "code",
   "execution_count": 27,
   "metadata": {},
   "outputs": [],
   "source": [
    "df2.to_csv(\"Data_cleaned_v2.csv\", index=False)"
   ]
  },
  {
   "cell_type": "markdown",
   "metadata": {},
   "source": [
    "### Version 3"
   ]
  },
  {
   "cell_type": "code",
   "execution_count": 64,
   "metadata": {},
   "outputs": [],
   "source": [
    "df3 = df2"
   ]
  },
  {
   "cell_type": "code",
   "execution_count": 66,
   "metadata": {},
   "outputs": [],
   "source": [
    "def is_arabic_text(text):\n",
    "    \"\"\"\n",
    "    Checks if the text is primarily Arabic by calculating the proportion of Arabic characters.\n",
    "    \"\"\"\n",
    "    arabic_chars = re.findall(r'[\\u0600-\\u06FF]', text)\n",
    "    return len(arabic_chars) / len(text) > 0.5 if len(text) > 0 else False\n",
    "\n",
    "def remove_english_words(text):\n",
    "    \"\"\"\n",
    "    Removes English words from Arabic text.\n",
    "    \"\"\"\n",
    "    # If the text is primarily Arabic, remove English words\n",
    "    if is_arabic_text(text):\n",
    "        text = re.sub(r'\\b[A-Za-z]+\\b', '', text)  # Remove English words\n",
    "        text = re.sub(r'\\s+', ' ', text).strip()   # Remove extra spaces\n",
    "    return text"
   ]
  },
  {
   "cell_type": "code",
   "execution_count": 67,
   "metadata": {},
   "outputs": [],
   "source": [
    "df3[\"Message Content\"] = df3[\"Message Content\"].apply(remove_english_words)"
   ]
  },
  {
   "cell_type": "code",
   "execution_count": 68,
   "metadata": {},
   "outputs": [
    {
     "data": {
      "text/plain": [
       "'طريق سداد ذلك عقد'"
      ]
     },
     "execution_count": 68,
     "metadata": {},
     "output_type": "execute_result"
    }
   ],
   "source": [
    "df3[\"Message Content\"][10]"
   ]
  },
  {
   "cell_type": "code",
   "execution_count": 69,
   "metadata": {},
   "outputs": [
    {
     "data": {
      "text/html": [
       "<div>\n",
       "<style scoped>\n",
       "    .dataframe tbody tr th:only-of-type {\n",
       "        vertical-align: middle;\n",
       "    }\n",
       "\n",
       "    .dataframe tbody tr th {\n",
       "        vertical-align: top;\n",
       "    }\n",
       "\n",
       "    .dataframe thead th {\n",
       "        text-align: right;\n",
       "    }\n",
       "</style>\n",
       "<table border=\"1\" class=\"dataframe\">\n",
       "  <thead>\n",
       "    <tr style=\"text-align: right;\">\n",
       "      <th></th>\n",
       "      <th>Sender</th>\n",
       "      <th>Message Content</th>\n",
       "      <th>Category</th>\n",
       "    </tr>\n",
       "  </thead>\n",
       "  <tbody>\n",
       "    <tr>\n",
       "      <th>0</th>\n",
       "      <td>maharah co.</td>\n",
       "      <td>لفتره محدوده خصم خدمه العماله المنزليه بنظام ا...</td>\n",
       "      <td>Promotional</td>\n",
       "    </tr>\n",
       "    <tr>\n",
       "      <th>1</th>\n",
       "      <td>stc</td>\n",
       "      <td>اكتشاف عطل فني هاتفكم وتمت معالجته ونعتذر اي خ...</td>\n",
       "      <td>Telecommunications</td>\n",
       "    </tr>\n",
       "    <tr>\n",
       "      <th>2</th>\n",
       "      <td>stc</td>\n",
       "      <td>نتشرف بخدمتكم ونفيدكم بانه قبول طلبكم ونقوم حا...</td>\n",
       "      <td>Telecommunications</td>\n",
       "    </tr>\n",
       "    <tr>\n",
       "      <th>3</th>\n",
       "      <td>mawarid</td>\n",
       "      <td>طريق سداد ذلك عقد</td>\n",
       "      <td>Commercial</td>\n",
       "    </tr>\n",
       "    <tr>\n",
       "      <th>4</th>\n",
       "      <td>alrajhibank</td>\n",
       "      <td>عزيزتنا عميله التميز نهنئكم بعيد الاضحي المبار...</td>\n",
       "      <td>Promotional</td>\n",
       "    </tr>\n",
       "    <tr>\n",
       "      <th>5</th>\n",
       "      <td>900</td>\n",
       "      <td>تقبل منا ومنك الطاعات وكل عام وانت بخير</td>\n",
       "      <td>Promotional</td>\n",
       "    </tr>\n",
       "    <tr>\n",
       "      <th>6</th>\n",
       "      <td>mawarid</td>\n",
       "      <td>عملينا زيارتك الطريق اليك برجاء التجهيز لاستقب...</td>\n",
       "      <td>Services</td>\n",
       "    </tr>\n",
       "    <tr>\n",
       "      <th>7</th>\n",
       "      <td>mawarid</td>\n",
       "      <td>طريق سداد ذلك عقد</td>\n",
       "      <td>Commercial</td>\n",
       "    </tr>\n",
       "    <tr>\n",
       "      <th>8</th>\n",
       "      <td>mawarid</td>\n",
       "      <td>عميلتا نشكرك اهتمامك نرجو ان تنال جميع الزيارا...</td>\n",
       "      <td>Services</td>\n",
       "    </tr>\n",
       "    <tr>\n",
       "      <th>9</th>\n",
       "      <td>mawarid</td>\n",
       "      <td>Dear customer thank you for feedback we hope a...</td>\n",
       "      <td>Services</td>\n",
       "    </tr>\n",
       "  </tbody>\n",
       "</table>\n",
       "</div>"
      ],
      "text/plain": [
       "        Sender                                    Message Content  \\\n",
       "0  maharah co.  لفتره محدوده خصم خدمه العماله المنزليه بنظام ا...   \n",
       "1          stc  اكتشاف عطل فني هاتفكم وتمت معالجته ونعتذر اي خ...   \n",
       "2          stc  نتشرف بخدمتكم ونفيدكم بانه قبول طلبكم ونقوم حا...   \n",
       "3      mawarid                                  طريق سداد ذلك عقد   \n",
       "4  alrajhibank  عزيزتنا عميله التميز نهنئكم بعيد الاضحي المبار...   \n",
       "5          900            تقبل منا ومنك الطاعات وكل عام وانت بخير   \n",
       "6      mawarid  عملينا زيارتك الطريق اليك برجاء التجهيز لاستقب...   \n",
       "7      mawarid                                  طريق سداد ذلك عقد   \n",
       "8      mawarid  عميلتا نشكرك اهتمامك نرجو ان تنال جميع الزيارا...   \n",
       "9      mawarid  Dear customer thank you for feedback we hope a...   \n",
       "\n",
       "             Category  \n",
       "0         Promotional  \n",
       "1  Telecommunications  \n",
       "2  Telecommunications  \n",
       "3          Commercial  \n",
       "4         Promotional  \n",
       "5         Promotional  \n",
       "6            Services  \n",
       "7          Commercial  \n",
       "8            Services  \n",
       "9            Services  "
      ]
     },
     "execution_count": 69,
     "metadata": {},
     "output_type": "execute_result"
    }
   ],
   "source": [
    "df3.head(10)"
   ]
  },
  {
   "cell_type": "code",
   "execution_count": 71,
   "metadata": {},
   "outputs": [],
   "source": [
    "df3 = df3.drop_duplicates()"
   ]
  },
  {
   "cell_type": "code",
   "execution_count": 72,
   "metadata": {},
   "outputs": [
    {
     "data": {
      "text/plain": [
       "(848, 3)"
      ]
     },
     "execution_count": 72,
     "metadata": {},
     "output_type": "execute_result"
    }
   ],
   "source": [
    "df3.shape"
   ]
  },
  {
   "cell_type": "code",
   "execution_count": 73,
   "metadata": {},
   "outputs": [],
   "source": [
    "df3.to_csv(\"Data_cleaned_v3.csv\", index=False)"
   ]
  }
 ],
 "metadata": {
  "kernelspec": {
   "display_name": "Python 3",
   "language": "python",
   "name": "python3"
  },
  "language_info": {
   "codemirror_mode": {
    "name": "ipython",
    "version": 3
   },
   "file_extension": ".py",
   "mimetype": "text/x-python",
   "name": "python",
   "nbconvert_exporter": "python",
   "pygments_lexer": "ipython3",
   "version": "3.9.12"
  }
 },
 "nbformat": 4,
 "nbformat_minor": 2
}
